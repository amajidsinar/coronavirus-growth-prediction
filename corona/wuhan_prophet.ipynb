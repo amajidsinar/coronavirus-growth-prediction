{
 "nbformat": 4,
 "nbformat_minor": 2,
 "metadata": {
  "language_info": {
   "name": "python",
   "codemirror_mode": {
    "name": "ipython",
    "version": 3
   },
   "version": "3.7.4-final"
  },
  "orig_nbformat": 2,
  "file_extension": ".py",
  "mimetype": "text/x-python",
  "name": "python",
  "npconvert_exporter": "python",
  "pygments_lexer": "ipython3",
  "version": 3,
  "kernelspec": {
   "name": "python37464bitbaseconda88c07d2f85f942f19949bdb41660ca3b",
   "display_name": "Python 3.7.4 64-bit ('base': conda)"
  }
 },
 "cells": [
  {
   "cell_type": "code",
   "execution_count": 77,
   "metadata": {},
   "outputs": [],
   "source": [
    "import pandas as pd\n",
    "from fbprophet import Prophet\n",
    "\n",
    "df=pd.read_csv(\"Wuhan.csv\")"
   ]
  },
  {
   "cell_type": "code",
   "execution_count": 78,
   "metadata": {},
   "outputs": [
    {
     "output_type": "execute_result",
     "data": {
      "text/plain": "58"
     },
     "metadata": {},
     "execution_count": 78
    }
   ],
   "source": [
    "df = df[[\"Date\", \"Case\"]]\n",
    "len(df)"
   ]
  },
  {
   "cell_type": "code",
   "execution_count": 79,
   "metadata": {},
   "outputs": [],
   "source": [
    "date = pd.date_range('2020-01-22', periods=len(df))\n",
    "df.Date = date"
   ]
  },
  {
   "cell_type": "code",
   "execution_count": 80,
   "metadata": {},
   "outputs": [],
   "source": [
    "training_days = 30\n",
    "validation_days = len(date) - training_days\n",
    "df.rename(columns={\"Date\": \"ds\", \"Case\": \"y\"}, inplace=True)"
   ]
  },
  {
   "cell_type": "code",
   "execution_count": 81,
   "metadata": {},
   "outputs": [],
   "source": [
    "df_train = df.loc[:training_days-1, :]\n",
    "df_validation = df.loc[training_days:, :]"
   ]
  },
  {
   "cell_type": "code",
   "execution_count": 82,
   "metadata": {},
   "outputs": [
    {
     "output_type": "execute_result",
     "data": {
      "text/plain": "           ds      y\n30 2020-02-21  62662\n31 2020-02-22  64084\n32 2020-02-23  64084\n33 2020-02-24  64287\n34 2020-02-25  64786",
      "text/html": "<div>\n<style scoped>\n    .dataframe tbody tr th:only-of-type {\n        vertical-align: middle;\n    }\n\n    .dataframe tbody tr th {\n        vertical-align: top;\n    }\n\n    .dataframe thead th {\n        text-align: right;\n    }\n</style>\n<table border=\"1\" class=\"dataframe\">\n  <thead>\n    <tr style=\"text-align: right;\">\n      <th></th>\n      <th>ds</th>\n      <th>y</th>\n    </tr>\n  </thead>\n  <tbody>\n    <tr>\n      <td>30</td>\n      <td>2020-02-21</td>\n      <td>62662</td>\n    </tr>\n    <tr>\n      <td>31</td>\n      <td>2020-02-22</td>\n      <td>64084</td>\n    </tr>\n    <tr>\n      <td>32</td>\n      <td>2020-02-23</td>\n      <td>64084</td>\n    </tr>\n    <tr>\n      <td>33</td>\n      <td>2020-02-24</td>\n      <td>64287</td>\n    </tr>\n    <tr>\n      <td>34</td>\n      <td>2020-02-25</td>\n      <td>64786</td>\n    </tr>\n  </tbody>\n</table>\n</div>"
     },
     "metadata": {},
     "execution_count": 82
    }
   ],
   "source": [
    "df_validation.head()"
   ]
  },
  {
   "cell_type": "code",
   "execution_count": 83,
   "metadata": {},
   "outputs": [
    {
     "output_type": "stream",
     "name": "stderr",
     "text": "INFO:numexpr.utils:NumExpr defaulting to 4 threads.\nINFO:fbprophet:Disabling yearly seasonality. Run prophet with yearly_seasonality=True to override this.\nINFO:fbprophet:Disabling daily seasonality. Run prophet with daily_seasonality=True to override this.\nINFO:fbprophet:n_changepoints greater than number of observations. Using 23.\n"
    },
    {
     "output_type": "execute_result",
     "data": {
      "text/plain": "<fbprophet.forecaster.Prophet at 0x1a1d135550>"
     },
     "metadata": {},
     "execution_count": 83
    }
   ],
   "source": [
    "df[\"Date\"] = date\n",
    "m = Prophet(growth='logistic')\n",
    "df_train['cap'] = 67800\n",
    "m.fit(df_train)"
   ]
  },
  {
   "cell_type": "code",
   "execution_count": 67,
   "metadata": {},
   "outputs": [],
   "source": [
    "future = m.make_future_dataframe(periods=60)\n",
    "future['cap'] = 67800\n",
    "forecast = m.predict(future)\n"
   ]
  },
  {
   "cell_type": "code",
   "execution_count": null,
   "metadata": {},
   "outputs": [],
   "source": []
  }
 ]
}